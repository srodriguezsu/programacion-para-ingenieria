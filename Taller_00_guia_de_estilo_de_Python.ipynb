{
  "cells": [
    {
      "cell_type": "markdown",
      "metadata": {
        "id": "view-in-github",
        "colab_type": "text"
      },
      "source": [
        "<a href=\"https://colab.research.google.com/github/srodriguezsu/programacion-para-ingenieria/blob/main/Taller_00_guia_de_estilo_de_Python.ipynb\" target=\"_parent\"><img src=\"https://colab.research.google.com/assets/colab-badge.svg\" alt=\"Open In Colab\"/></a>"
      ]
    },
    {
      "cell_type": "markdown",
      "source": [
        "## «*El código se lee con más frecuencia de la que se escribe*».\n",
        "### [Guido van Rossum](https://es.wikipedia.org/wiki/Guido_van_Rossum)"
      ],
      "metadata": {
        "id": "djdYnssh96Vf"
      }
    },
    {
      "cell_type": "markdown",
      "source": [
        "# Taller 00 Guía de estilo para escribir código en Python\n",
        "En este taller aprenderá los conceptos **básicos** relativos a la guía de estilo para escribir código en Python [(PEP8)](https://peps.python.org/pep-0008/).\n",
        "\n",
        "La guía de estilo busca mejorar la claridad y la legibilidad del código en Python, pero no afecta su ejecución.\n"
      ],
      "metadata": {
        "id": "m1ragERr9SE3"
      }
    },
    {
      "cell_type": "markdown",
      "source": [
        "# Referencias\n",
        "\n",
        "Este taller se base en información e ideas recopiladas de las siguientes fuentes:\n",
        "\n",
        "* [Python Style Guide | How to Write Neat and Impressive Python Code](https://www.analyticsvidhya.com/blog/2020/07/python-style-guide/)\n",
        "* [Python PEP 8 tutorial: Get started writing readable code](https://www.educative.io/blog/python-pep8-tutorial)\n",
        "* [Lesson 2. Clean Code Syntax for Python: Introduction to PEP 8 Style Guide](https://www.earthdatascience.org/courses/intro-to-earth-data-science/write-efficient-python-code/intro-to-clean-code/python-pep-8-style-guide/)\n",
        "* [PEP 8 : Coding Style guide in Python](https://www.geeksforgeeks.org/pep-8-coding-style-guide-python/)\n",
        "* [Code Style](https://docs.python-guide.org/writing/style/)\n",
        "* [How to Write Beautiful Python Code With PEP 8](https://realpython.com/python-pep8/)\n",
        "* [5 PEP8 Must-Remember Guidelines](https://towardsdatascience.com/5-pep8-must-remember-guidelines-b8390b9ec03d)\n",
        "* [Chapter 4. Writing Great Code](https://www.oreilly.com/library/view/the-hitchhikers-guide/9781491933213/ch04.html)\n",
        "* [Lesson 1. Introduction to Writing Clean Code and Literate Expressive Programming](https://www.earthdatascience.org/courses/intro-to-earth-data-science/write-efficient-python-code/intro-to-clean-code/)\n",
        "* [Lesson 3. Make Your Code Easier to Read By Using Expressive Variable Names in Python](https://www.earthdatascience.org/courses/intro-to-earth-data-science/write-efficient-python-code/intro-to-clean-code/expressive-variable-names-make-code-easier-to-read/)\n",
        "* [Zen de Python](https://es.wikipedia.org/wiki/Zen_de_Python)\n",
        "* [El Zen de Python Explicado](https://pybaq.co/blog/el-zen-de-python-explicado/)\n",
        "* [PEP 20 – El Zen de Python](https://elpythonista.com/zen-de-python)\n",
        "\n"
      ],
      "metadata": {
        "id": "bSWnQlgNEW--"
      }
    },
    {
      "cell_type": "markdown",
      "source": [
        "# El *Zen de Python*\n",
        "\n",
        "El *Zen de Python* es una recopilación de los principios de *software* utilizados para el diseño de código en Python.\n",
        "\n",
        "Para consultar esos principios basta escribir y ejecutar el siguiente código:\n",
        "\n",
        "**import** this\n"
      ],
      "metadata": {
        "id": "i9MZK6LRl7DZ"
      }
    },
    {
      "cell_type": "code",
      "source": [
        "# Código para acceder al Zen de Python\n",
        "import this"
      ],
      "metadata": {
        "id": "KcAsrR7EmAA9"
      },
      "execution_count": null,
      "outputs": []
    },
    {
      "cell_type": "markdown",
      "source": [
        "# Facilita la lectura de tu código"
      ],
      "metadata": {
        "id": "To50p4zVmfU5"
      }
    },
    {
      "cell_type": "markdown",
      "source": [
        "## Cómo importar librerías y módulos\n",
        "\n",
        "Escriba en líneas separadas, al inicio del archivo, el código utilizado para importar las librerías requeridas.\n",
        "\n",
        "Se sugiere el siguiente orden:\n",
        "* Importar librerías de la biblioteca estándar.\n",
        "* Importar librerías de terceros.\n",
        "* Importar librerías específicas de bibliotecas y aplicaciones locales.\n"
      ],
      "metadata": {
        "id": "PWTfLtfRJaAe"
      }
    },
    {
      "cell_type": "markdown",
      "source": [
        "## Uso de la sangría (*indentation*)\n",
        "\n",
        "Python utiliza la sangría como herramienta para identificar los diferentes bloques (*if*, *for*, *while*, *function*, *Class*, etcétera). La falta de consistencia en las sangrías puede generar errores cuando se ejecute el código.\n",
        "\n",
        "La sangría facilita la visualización del código.\n",
        "\n",
        "Se recomienda usar cuatro espacios como sangría para cada nivel de código. Los tabuladores solo se recomiendan para mantener la consistencia de un código que ya los está utilizando.\n",
        "\n",
        "**Importante**: no mezcle espacios y tabuladores (aunque el ojo humano no detecta la diferencia, la máquina sí la detecta y pueden surgir errores al ejecutar el código)."
      ],
      "metadata": {
        "id": "kaNvoJqkE9Ql"
      }
    },
    {
      "cell_type": "markdown",
      "source": [
        "## No exceda la longitud máxima permitida para cada línea\n",
        "\n",
        "Las líneas largas de código son muy difíciles de leer. Escriba líneas de 79 o menos caracteres. En caso de que requiera partir una línea utilice **\\**.\n",
        "\n",
        "Si la línea de código contiene operadores binarios (**+**, **-**,  **/**, **=**,**<=**) divida la línea **antes** del operador binario."
      ],
      "metadata": {
        "id": "LhzELDdRQDqh"
      }
    },
    {
      "cell_type": "markdown",
      "source": [
        "## Manejo de líneas en blanco\n",
        "\n",
        "Las líneas en blanco permiten identificar con claridad los diferentes bloques que componen un código. Se recomienda utilizar al menos una línea en blanco entre bloques de diferente propósito.\n",
        "\n",
        "**Agregue una línea en blanco antes de una línea, o un bloque, con comentarios; salvo que el comentario sea la primera línea del código."
      ],
      "metadata": {
        "id": "yiqojCqiMMTY"
      }
    },
    {
      "cell_type": "markdown",
      "source": [
        "## Manejo de los espacios en blanco\n",
        "\n",
        "El exceso y la deficiencia de espacios en blanco afectan la legibilidad del código.\n",
        "\n",
        "Siempre use **un espacio en blanco** en los siguientes casos:\n",
        "\n",
        "* Antes y después de un operador binario (**+**, **-**,  **/**, **+=**, **-=**), de comparaciones (**==**, **<**, **>**, **!=**, **<>**, **<=**, **>=**, **in**, **not in**, **is**, **is not**), y Booleanos (**and**, **or**, **not**).\n",
        "* Después de una coma (**,**) que separa una secuencia de elementos.\n",
        "\n",
        "**No utilice** espacios en blanco en los siguientes casos:\n",
        "* Antes del primer elemento dentro de paréntesis, corchetes o llaves.\n",
        "* Después de una coma «*trasera*» y el paréntesis de cierre.\n",
        "* Antes de una coma (**,**), dos puntos (**:**), o un punto y coma (**;**).\n",
        "* Antes del primer paréntesis cuando se va a invocar una función."
      ],
      "metadata": {
        "id": "mZ9KmyUgaJnJ"
      }
    },
    {
      "cell_type": "markdown",
      "source": [
        "# Describe la lógica de tu código\n",
        "\n",
        "Los códigos se escriben para resolver algún tipo de problema. Cada persona soluciona el problema basada en su lógica particular. Aunque no todos los caminos conduzcan a Roma, sí se puede llegar a Roma por diversos caminos. Python ofrece dos herramientas: comentarios y documentación, que permiten explicar la lógica utilizada para escribir el código.\n",
        "\n",
        "**Comentar es diferente a documentar**.Los comentarios permiten entender el desarrollo del código. La documentación sirve de referencia sobre las operaciones de funciones, clases, librerías.\n",
        "\n",
        "Su *yo del futuro* y los usuarios de su código agradecerán a su *yo del presente* que comente y documente de manera adecuada su código."
      ],
      "metadata": {
        "id": "qL6xIIlYmRj1"
      }
    },
    {
      "cell_type": "markdown",
      "source": [
        "## Los comentarios\n",
        "\n",
        "Los comentarios explican qué hace el código, para qué o por qué lo hace. Es decir, los comentarios expresan en lenguaje entendible por seres humanos lo que se pretende que haga el código al momento de su ejecución. Los comentarios deben ser frases completas, claras y concisas.\n",
        "\n",
        "Antes de cada comentario escriba el signo numeral y deje un espacio en blanco (# ). También puede escribir comentarios usando (' ' ') antes y después del comentario.\n",
        "\n",
        "La primera palabra de cada comentario inicia con mayúscula.\n",
        "\n",
        "Los comentarios llevan la misma sangría que el bloque al que se refieren.\n",
        "\n",
        "**Actualice los comentarios cada vez que modifique el código**."
      ],
      "metadata": {
        "id": "XgPtxOeYEck1"
      }
    },
    {
      "cell_type": "markdown",
      "source": [
        "## La documentación\n",
        "\n",
        "La documentación de funciones, clases y módulos sigue la convención [PEP 257 – Docstring Conventions](https://peps.python.org/pep-0257/).\n",
        "\n",
        "Las funciones se documentan siguiendo el protocolo de [Google Style Python Docstrings](https://gist.github.com/redlotus/3bc387c2591e3e908c9b63b97b11d24e).\n",
        "\n",
        "Después de la línea donde se define la función, la clase o módulo se escribe la documentación respectiva. La documentación inicia y termina con tres comillas dobles (\"\"\").\n",
        "\n",
        "Si la documentación ocupa una sola línea, las comillas de apertura y de cierre van en la misma línea; en caso contrario (documentación multilínea) las comillas de cierre van solas en una línea independiente.\n",
        "\n",
        "La primera línea después de la línea de definición debe indicar lo que hace ese elemento. Las líneas posteriores contienen información adicional sobre el elemento."
      ],
      "metadata": {
        "id": "8lLfOOQqEfgt"
      }
    },
    {
      "cell_type": "code",
      "source": [
        "# Ejemplo de documentación de una función siguiendo el Google Style Python Docstrings.\n",
        "\n",
        "# Crear una función para calcular el área de un cuadrado\n",
        "def area_cuadrado(lado):\n",
        "    \"\"\"Calcula el área de un cuadrado.\n",
        "\n",
        "    Args:\n",
        "       lado (float or int): La longitud del lado del cuadrado.\n",
        "\n",
        "    Returns:\n",
        "       float or int: El área del cuadrado.\n",
        "\n",
        "    \"\"\"\n",
        "    # Calcular el área del cuadrado\n",
        "    areacuadrado = lado ** 2\n",
        "\n",
        "    # Devolver el área del cuadrado\n",
        "    return areacuadrado\n"
      ],
      "metadata": {
        "id": "B1mbtgUHSF7j"
      },
      "execution_count": null,
      "outputs": []
    },
    {
      "cell_type": "markdown",
      "source": [
        "# ¿Y qué nombre le pondrás?\n",
        "\n",
        "Los nombres utilizados en un código para designar sus elementos (variables, constantes funciones, objetos, clases, etcétera) ayudan a entender la forma en que el código funciona. Las convenciones de escritura facilitan conocer de qué tipo de elemento se trata.\n",
        "\n",
        "Utilice nombres **significativos**, es decir **descriptivos** y mnemotécnicos (que faciliten la asociación mental con su propósito en la resolución del problema)."
      ],
      "metadata": {
        "id": "SNBe2P26mRqx"
      }
    },
    {
      "cell_type": "markdown",
      "source": [
        "### Nombres peligrosos\n",
        "\n",
        "Se sugiere no utilizar letras aisladas (un solo carácter)  como nombres de elementos en los casos en que pueden ser confundidas con números.\n",
        "\n",
        "Por ejemplo:\n",
        "\n",
        "* **l**: letra minúscula ele\n",
        "* **I**: letra mayúscula i\n",
        "* **O**: letra mayúscula o\n",
        "\n",
        "en algunas fuentes tipográficas no se distinguen de los números 1 (uno) y O (cero).\n"
      ],
      "metadata": {
        "id": "it_jPF1M_JYq"
      }
    },
    {
      "cell_type": "markdown",
      "source": [
        "## nombres_de_variables y de funciones\n",
        "\n",
        "Los nombres de las variables y de las funciones deben ser cortos y **significativos**. Se escriben en minúsculas (*lowercase*). Se permite el uso de guiones bajos (*underscores*) para incrementar el significado del elemento.\n",
        "\n",
        "Esta convención también aplica para métodos e instancias."
      ],
      "metadata": {
        "id": "7mwRU_N_D0ff"
      }
    },
    {
      "cell_type": "markdown",
      "source": [
        "## NombresDeClases\n",
        "Los nombres de clases deben ser cortos y **significativos**. Se escriben siguiendo la convención *CamelCase*, también conocida como *CapitalizedWords*, es decur, iniciar con mayúscula cada palabra que compone el nombre y no utilizar guiones bajos (*underscores*)."
      ],
      "metadata": {
        "id": "Key9Wos8Co2C"
      }
    },
    {
      "cell_type": "markdown",
      "source": [
        "## nombres de paquetes y de módulos\n",
        "\n",
        "Los nombres deben ser cortos y **significativos**. Se escriben en minúsculas (*lowercase*). Se permite, **pero no se recomienda**, el uso de guiones bajos(*underscores*)."
      ],
      "metadata": {
        "id": "J1VOVFhfBgSa"
      }
    },
    {
      "cell_type": "markdown",
      "source": [
        "## NOMBRES_DE_CONSTANTES\n",
        "\n",
        "Los nombres de constantes deben ser cortos y **significativos**. Se escriben en mayúsculas sostenidas (*UPPERCASE*). En caso de necesidad se permite el uso de guiones bajos (*underscores*).\n",
        "\n",
        "**Las constantes solo se utilizan a nivel de módulo. No cree constantes en programas, funciones o clases**."
      ],
      "metadata": {
        "id": "sDstQqy_FSvo"
      }
    },
    {
      "cell_type": "markdown",
      "source": [
        "# Herramientas para ajustar el código al estilo PEP8.\n",
        "\n",
        "Las herramientas que ayudan a verificar que el código se ajusta a las normas de estilo se denominan *lintern*.\n",
        "\n",
        "Entre las herramientas más populares se encuentran:\n",
        "* [pycodestyle 2.2.0](https://pypi.org/project/pycodestyle/2.2.0/)\n",
        "* [autopep8](https://github.com/hhatto/autopep8)\n",
        "* [npep8](https://github.com/nbpep8/nbpep8) Diseñada para Google Colab y Kaggle."
      ],
      "metadata": {
        "id": "9T_mN3V_b58F"
      }
    },
    {
      "cell_type": "code",
      "source": [
        "# Código para instalar npep8 en Google Colab.\n",
        "# Es necesario instalar primero pycodestyle.\n",
        "# Instalar las librerías requeridas.\n",
        "!pip install pycodestyle\n",
        "!pip install --index-url https://test.pypi.org/simple/ nbpep8"
      ],
      "metadata": {
        "id": "6px85mGtd9uc"
      },
      "execution_count": null,
      "outputs": []
    },
    {
      "cell_type": "code",
      "source": [
        "# Importar la librería npep8\n",
        "from nbpep8.nbpep8 import pep8"
      ],
      "metadata": {
        "id": "3MVXrXWeesBG"
      },
      "execution_count": null,
      "outputs": []
    },
    {
      "cell_type": "code",
      "source": [
        "# Escriba acá su código\n",
        "print(   \"Hola mundo\"    )\n",
        "\n",
        "# Instrucción para verificar el estilo PEP8.\n",
        "# Requiere instalar e importar, de manera previa, los módulos asociados\n",
        "pep8(_ih)"
      ],
      "metadata": {
        "id": "EFkCXSY3fpaX"
      },
      "execution_count": null,
      "outputs": []
    },
    {
      "cell_type": "markdown",
      "source": [
        "# Escritura y modificación de código con la ayuda de LLM\n",
        "\n",
        "[Document Your Python Code and Projects With ChatGPT](https://realpython.com/document-python-code-with-chatgpt/)\n",
        "\n",
        "[11 ways you can use ChatGPT to write code](https://typefully.com/svpino/11-ways-you-can-use-chatgpt-to-write-code-YnkOEF4)\n",
        "\n",
        "[ChatGPT as a Python Programming Assistant](https://www.kdnuggets.com/2023/01/chatgpt-python-programming-assistant.html)\n"
      ],
      "metadata": {
        "id": "H6oe1j-av65H"
      }
    },
    {
      "cell_type": "markdown",
      "source": [
        "## ChatGPT\n",
        "\n",
        "[Documentación con ChatGPT](https://chat.openai.com/share/2539693e-3ce5-4fd2-9d37-0ef50f4d3ca5)"
      ],
      "metadata": {
        "id": "xePQEJqjxw95"
      }
    },
    {
      "cell_type": "markdown",
      "source": [
        "## Gemini\n",
        "\n",
        "[Documentación con Gemini](https://g.co/gemini/share/c4d42b385da1)"
      ],
      "metadata": {
        "id": "b_a4g0WYx02K"
      }
    },
    {
      "cell_type": "markdown",
      "source": [
        "# Páginas para ajustar el código al estilo PEP8\n",
        "\n",
        "En los siguientes sitios puede revisar si el código se ajusta al estilo PEP8:\n",
        "\n",
        "*[Python formatter](https://extendsclass.com/python-formatter.html)\n",
        "\n",
        "*[Code Beautify Python formatter](https://codebeautify.org/python-formatter-beautifier)\n",
        "\n",
        "*[ONLINE PYTHON FORMATTER](https://www.tutorialspoint.com/online_python_formatter.htm)"
      ],
      "metadata": {
        "id": "qOMgHzhlDSTb"
      }
    },
    {
      "cell_type": "markdown",
      "source": [
        "# **Ejercicios**.\n"
      ],
      "metadata": {
        "id": "pTHPw9Z8biXx"
      }
    },
    {
      "cell_type": "markdown",
      "source": [
        "## 00.\n",
        "Modifique el siguiente código para que se ajuste a las recomendaciones del PEP 8. Asigne nombres significativos a los elementos. Agregue comentarios y documentación en los casos que se requieran."
      ],
      "metadata": {
        "id": "-a8z0qMIoQIM"
      }
    },
    {
      "cell_type": "code",
      "source": [
        "print('one'); print('two')\n",
        "x=2\n",
        "if x == 1: print('one')"
      ],
      "metadata": {
        "id": "_c3OMX8dM3CL"
      },
      "execution_count": null,
      "outputs": []
    },
    {
      "cell_type": "code",
      "source": [
        "# Modifique en esta casilla el código anterior para que se ajuste al PEP8\n",
        "print(\"one\")\n",
        "print(\"two\")\n",
        "x = 2\n",
        "if x == 1:\n",
        "    print(\"one\")\n"
      ],
      "metadata": {
        "id": "BE5ya0RhM2re",
        "outputId": "affa7899-1df4-4e5c-bdaf-d359e77d91d6",
        "colab": {
          "base_uri": "https://localhost:8080/"
        }
      },
      "execution_count": 1,
      "outputs": [
        {
          "output_type": "stream",
          "name": "stdout",
          "text": [
            "one\n",
            "two\n"
          ]
        }
      ]
    },
    {
      "cell_type": "markdown",
      "source": [
        "## 01.\n",
        "Modifique el siguiente código para que se ajuste a las recomendaciones del PEP 8. Asigne nombres significativos a los elementos. Agregue comentarios y documentación en los casos que se requieran."
      ],
      "metadata": {
        "id": "VmKoBAsFbu-u"
      }
    },
    {
      "cell_type": "code",
      "source": [
        "def multiplicacion_escalar(escalar,       matriz):\n",
        "    c = []\n",
        "    for i in range(    0, len(matriz)     ):\n",
        "        c.append([])\n",
        "        for j in range(     0, len(matriz[0])):\n",
        "            c[i].append(matriz[i][j] * escalar)\n",
        "    return c\n",
        "\n",
        "\n",
        "B = [     [ 6, 3, 2 ] ,     [ 1, 1, 1] ]\n",
        "\n",
        "\n",
        "\n",
        "\n",
        "\n",
        "print(multiplicacion_escalar(2, B))"
      ],
      "metadata": {
        "id": "25c2_lhvclvY"
      },
      "execution_count": null,
      "outputs": []
    },
    {
      "cell_type": "code",
      "source": [
        "# Modifique en esta casilla el código anterior para que se ajuste al PEP8\n",
        "\n"
      ],
      "metadata": {
        "id": "CgltiU1nelCr"
      },
      "execution_count": null,
      "outputs": []
    },
    {
      "cell_type": "markdown",
      "source": [
        "## 02.\n",
        "Modifique el siguiente código para que se ajuste a las recomendaciones del PEP 8. Asigne nombres significativos a los elementos. AAAAAAAAAAAgregue comentarios y documentación en los casos que se requieran."
      ],
      "metadata": {
        "id": "Arqn5zD3gqti"
      }
    },
    {
      "cell_type": "code",
      "source": [
        "import numpy as np\n",
        "\n",
        "MATRIZ_1 = np.array([    [2,6,2, 5],              [8, 3, 7, 3],            [5, 8, 1, 2]])\n",
        "\n",
        "print (MATRIZ_1)"
      ],
      "metadata": {
        "id": "NXZjE4dggyZW"
      },
      "execution_count": null,
      "outputs": []
    },
    {
      "cell_type": "code",
      "source": [
        "# Modifique en esta casilla el código anterior para que se ajuste al PEP8\n",
        "\n"
      ],
      "metadata": {
        "id": "X9wVvlGRhw6L"
      },
      "execution_count": null,
      "outputs": []
    },
    {
      "cell_type": "markdown",
      "source": [
        "## 03.\n",
        "Modifique el siguiente código para que se ajuste a las recomendaciones del PEP 8. Asigne nombres significativos a los elementos. Agregue comentarios y documentación en los casos que se requieran.\n"
      ],
      "metadata": {
        "id": "lB5c5h2DlBLm"
      }
    },
    {
      "cell_type": "code",
      "source": [
        "import numpy as np\n",
        "p=12 #Pa\n",
        "r=997 #kg/m^3\n",
        "v=15 #m/s\n",
        "g=9,8 #m/s^2\n",
        "h=1 #m\n",
        "z=1,12 #m\n",
        "b= ((r*v)+h+(p*v))\n",
        "print (b)"
      ],
      "metadata": {
        "id": "elks-TshlBMM"
      },
      "execution_count": null,
      "outputs": []
    },
    {
      "cell_type": "code",
      "source": [
        "# Modifique en esta casilla el código anterior para que se ajuste al PEP8\n",
        "\n"
      ],
      "metadata": {
        "id": "wj_zaGrllBMP"
      },
      "execution_count": null,
      "outputs": []
    },
    {
      "cell_type": "markdown",
      "source": [
        "## 04.\n",
        "Modifique el siguiente código para que se ajuste a las recomendaciones del PEP 8. Asigne nombres significativos a los elementos. Agregue comentarios y documentación en los casos que se requieran."
      ],
      "metadata": {
        "id": "-SzuAehUsrtm"
      }
    },
    {
      "cell_type": "code",
      "source": [
        "lista1 = [1, 3, 5]\n",
        "lista2 = [2, 4, 6]\n",
        "lista3 = lista1 + lista2\n",
        "print(lista3)"
      ],
      "metadata": {
        "id": "PXayYrVMs1UD"
      },
      "execution_count": null,
      "outputs": []
    },
    {
      "cell_type": "code",
      "source": [
        "# Modifique en esta casilla el código anterior para que se ajuste al PEP8\n",
        "\n"
      ],
      "metadata": {
        "id": "9Ub63ukquc_q"
      },
      "execution_count": null,
      "outputs": []
    },
    {
      "cell_type": "markdown",
      "source": [
        "## 05.\n",
        "Modifique el siguiente código para que se ajuste a las recomendaciones del PEP 8. Asigne nombres significativos a los elementos. Agregue comentarios y documentación en los casos que se requieran."
      ],
      "metadata": {
        "id": "l6pPhHIOvueL"
      }
    },
    {
      "cell_type": "code",
      "source": [
        "def area_rectangulo():\n",
        "\n",
        "\n",
        "    x = float(input(\"Ingrese la base del rectángulo: \"))\n",
        "\n",
        "\n",
        "    y= float (input(\"Ingrese la altura del rectángulo: \"))\n",
        "\n",
        "\n",
        "    AREA = x*y\n",
        "\n",
        "    return AREA\n",
        "\n",
        "Area_Rec = area_rectangulo()\n",
        "\n",
        "\n",
        "\n",
        "print(Area_Rec)\n",
        "print(area_rectangulo.__doc__)"
      ],
      "metadata": {
        "id": "tqRl9wypwDNQ"
      },
      "execution_count": null,
      "outputs": []
    },
    {
      "cell_type": "code",
      "source": [
        "# Modifique en esta casilla el código anterior para que se ajuste al PEP8\n",
        "\n"
      ],
      "metadata": {
        "id": "do_vEyGxwwWX"
      },
      "execution_count": null,
      "outputs": []
    },
    {
      "cell_type": "markdown",
      "source": [
        "## 06.\n",
        "Modifique el siguiente código para que se ajuste a las recomendaciones del PEP 8. Asigne nombres significativos a los elementos. Agregue comentarios y documentación en los casos que se requieran."
      ],
      "metadata": {
        "id": "WxbOkxkPyHOl"
      }
    },
    {
      "cell_type": "code",
      "source": [
        "def mostrar(  num_rows,      char):\n",
        "\tfor i in range(    num_rows    ):\n",
        "\t\tfor num_cols in range(num_rows-i):\n",
        "\t\t\tprint(char,     end=\"\")\n",
        "\t\tprint()\n",
        "\n",
        "mostrar(7, \"B\")"
      ],
      "metadata": {
        "id": "esiaXoBDyHO8"
      },
      "execution_count": null,
      "outputs": []
    },
    {
      "cell_type": "code",
      "source": [
        "# Modifique en esta casilla el código anterior para que se ajuste al PEP8\n",
        "\n"
      ],
      "metadata": {
        "id": "w_NhIqrKyHO9"
      },
      "execution_count": null,
      "outputs": []
    },
    {
      "cell_type": "markdown",
      "source": [
        "## 07.\n",
        "Modifique el siguiente código para que se ajuste a las recomendaciones del PEP 8. Asigne nombres significativos a los elementos. Agregue comentarios y documentación en los casos que se requieran."
      ],
      "metadata": {
        "id": "becLbSY7z17G"
      }
    },
    {
      "cell_type": "code",
      "source": [
        "def PrimerPar(seq):\n",
        "    for elem in seq:\n",
        "        if elem % 2 == 0:\n",
        "            return elem\n",
        "    else:\n",
        "        return None\n",
        "\n",
        "PrimerPar(   [1, 9, 47  , 30]  )"
      ],
      "metadata": {
        "id": "_vlefugoFetG"
      },
      "execution_count": null,
      "outputs": []
    },
    {
      "cell_type": "code",
      "source": [
        "# Modifique en esta casilla el código anterior para que se ajuste al PEP8\n",
        "\n"
      ],
      "metadata": {
        "id": "PpP0muOYFd6n"
      },
      "execution_count": null,
      "outputs": []
    },
    {
      "cell_type": "markdown",
      "source": [
        "## 08\n",
        "Modifique el siguiente código para que se ajuste a las recomendaciones del PEP 8. Asigne nombres significativos a los elementos. Agregue comentarios y documentación en los casos que se requieran."
      ],
      "metadata": {
        "id": "0Yebe97Z0vXs"
      }
    },
    {
      "cell_type": "code",
      "source": [
        "import google.colab.files as fl\n",
        "import numpy as np\n",
        "\n",
        "\n",
        "\n",
        "with open(\"racionales.txt\", \"w\") as numeros:\n",
        "  for i in range (50000):\n",
        "    numeros.write(str(np.random.normal(1000, 500))+\"\\n\")\n",
        "\n",
        "\n",
        "fl.download(\"racionales.txt\")\n"
      ],
      "metadata": {
        "id": "2MiPy6c1z17L"
      },
      "execution_count": null,
      "outputs": []
    },
    {
      "cell_type": "code",
      "source": [
        "# Modifique en esta casilla el código anterior para que se ajuste al PEP8\n",
        "\n"
      ],
      "metadata": {
        "id": "FCCRfXpBz17P"
      },
      "execution_count": null,
      "outputs": []
    },
    {
      "cell_type": "markdown",
      "source": [
        "## 09.\n",
        "Modifique el siguiente código para que se ajuste a las recomendaciones del PEP 8. Asigne nombres significativos a los elementos. Agregue comentarios y documentación en los casos que se requieran."
      ],
      "metadata": {
        "id": "70Y91RxspX8D"
      }
    },
    {
      "cell_type": "code",
      "source": [
        "def x(l):\n",
        "    size = len(l)\n",
        "\n",
        "\n",
        "    temp = l[0]\n",
        "    l[0] = l[size - 1]\n",
        "    l[size - 1] = temp\n",
        "\n",
        "    return l\n",
        "\n",
        "\n",
        "a = [12, 35, 9, 56, 24]\n",
        "\n",
        "print(x(a))"
      ],
      "metadata": {
        "id": "q_Ui9LHkpbjs"
      },
      "execution_count": null,
      "outputs": []
    },
    {
      "cell_type": "code",
      "source": [
        "# Modifique en esta casilla el código anterior para que se ajuste al PEP8\n",
        "\n"
      ],
      "metadata": {
        "id": "Jr58KMDGoI16"
      },
      "execution_count": null,
      "outputs": []
    },
    {
      "cell_type": "markdown",
      "source": [
        "## 10.\n",
        "Modifique el siguiente código para que se ajuste a las recomendaciones del PEP 8. Asigne nombres significativos a los elementos. Agregue comentarios y documentación en los casos que se requieran."
      ],
      "metadata": {
        "id": "npt9SGPNpdWQ"
      }
    },
    {
      "cell_type": "code",
      "source": [
        "def DuPLiCaDoS(string):\n",
        "\n",
        "    chars = {}\n",
        "\n",
        "\n",
        "    for char in string:\n",
        "\n",
        "        if char not in chars:\n",
        "            chars[char] = 1\n",
        "        else:\n",
        "\n",
        "            chars[char] += 1\n",
        "\n",
        "\n",
        "    d = []\n",
        "\n",
        "\n",
        "    for char, count in chars.items():\n",
        "        if count > 1:\n",
        "            d.append(char)\n",
        "\n",
        "    return d\n",
        "\n",
        "\n",
        "print(DuPLiCaDoS(\"mi mama me mima\"))"
      ],
      "metadata": {
        "id": "4CLR6GxNpf93"
      },
      "execution_count": null,
      "outputs": []
    },
    {
      "cell_type": "code",
      "source": [
        "# Modifique en esta casilla el código anterior para que se ajuste al PEP8\n",
        "\n"
      ],
      "metadata": {
        "id": "MGbvLw1qoMfJ"
      },
      "execution_count": null,
      "outputs": []
    },
    {
      "cell_type": "markdown",
      "source": [
        "## 11.\n",
        "Modifique el siguiente código para que se ajuste a las recomendaciones del PEP 8. Asigne nombres significativos a los elementos. Agregue comentarios y documentación en los casos que se requieran."
      ],
      "metadata": {
        "id": "m_ijhclUphps"
      }
    },
    {
      "cell_type": "code",
      "source": [
        "TestList = [[\"Gfg\", \"good\"], [\"is\", \"for\"], [\"Best\"]]\n",
        "\n",
        "\n",
        "print(\"La lista original es : \" + str(TestList))\n",
        "\n",
        "\n",
        "res = []\n",
        "N = 0\n",
        "while N != len(TestList):\n",
        "    temp = ''\n",
        "    for idx in TestList:\n",
        "\n",
        "\n",
        "        try: temp = temp + idx[N]\n",
        "        except IndexError: pass\n",
        "    res.append(temp)\n",
        "    N = N + 1\n",
        "\n",
        "res = [ele for ele in res if ele]\n",
        "\n",
        "\n",
        "print(\"La nueva lista es : \" + str(res))"
      ],
      "metadata": {
        "id": "To2n_MWXpj0U"
      },
      "execution_count": null,
      "outputs": []
    },
    {
      "cell_type": "code",
      "source": [
        "# Modifique en esta casilla el código anterior para que se ajuste al PEP8\n",
        "\n"
      ],
      "metadata": {
        "id": "VNY2qrtMoL3P"
      },
      "execution_count": null,
      "outputs": []
    },
    {
      "cell_type": "markdown",
      "source": [
        "## 12.\n",
        "Modifique el siguiente código para que se ajuste a las recomendaciones del PEP 8. Asigne nombres significativos a los elementos. Agregue comentarios y documentación en los casos que se requieran."
      ],
      "metadata": {
        "id": "02CUs83DplVE"
      }
    },
    {
      "cell_type": "code",
      "source": [
        "\n",
        "def AcUmUlAdO(h):\n",
        "    cu_list = []\n",
        "    length = len(h)\n",
        "    cu_list = [sum(h[0:x:1]) for x in range(0, length+1)]\n",
        "    return cu_list[1:]\n",
        "\n",
        "\n",
        "LiSTA = [10, 20, 30, 40, 50]\n",
        "print (AcUmUlAdO(LiSTA))"
      ],
      "metadata": {
        "id": "FwiwpcpBpnoK"
      },
      "execution_count": null,
      "outputs": []
    },
    {
      "cell_type": "code",
      "source": [
        "# Modifique en esta casilla el código anterior para que se ajuste al PEP8\n",
        "\n"
      ],
      "metadata": {
        "id": "s-Fa7IaGoLTI"
      },
      "execution_count": null,
      "outputs": []
    },
    {
      "cell_type": "markdown",
      "source": [
        "## 13.\n",
        "Modifique el siguiente código para que se ajuste a las recomendaciones del PEP 8. Asigne nombres significativos a los elementos. Agregue comentarios y documentación en los casos que se requieran."
      ],
      "metadata": {
        "id": "nhND6WYJppVU"
      }
    },
    {
      "cell_type": "code",
      "source": [
        "\n",
        "\n",
        "\n",
        "def squaresum(n) :\n",
        "\n",
        "\n",
        "    sm = 0\n",
        "    for i in    range(1,       n+1) :\n",
        "        sm =     sm + (i * i)\n",
        "\n",
        "    return    sm\n",
        "\n",
        "\n",
        "n = 40\n",
        "print(squaresum(n))\n"
      ],
      "metadata": {
        "id": "U9rz42L-pr6B"
      },
      "execution_count": null,
      "outputs": []
    },
    {
      "cell_type": "code",
      "source": [
        "# Modifique en esta casilla el código anterior para que se ajuste al PEP8\n",
        "\n"
      ],
      "metadata": {
        "id": "M9o7pEAnoKqn"
      },
      "execution_count": null,
      "outputs": []
    },
    {
      "cell_type": "markdown",
      "source": [
        "## 14.\n",
        "Modifique el siguiente código para que se ajuste a las recomendaciones del PEP 8. Asigne nombres significativos a los elementos. Agregue comentarios y documentación en los casos que se requieran."
      ],
      "metadata": {
        "id": "_cen1BtjptHk"
      }
    },
    {
      "cell_type": "code",
      "source": [
        "def make_complex(*args):\n",
        "    x, y = args\n",
        "    return dict(**locals())\n",
        "\n",
        "print(make_complex(1,2))"
      ],
      "metadata": {
        "id": "XwNWj8_xpw8t"
      },
      "execution_count": null,
      "outputs": []
    },
    {
      "cell_type": "code",
      "source": [
        "# Modifique en esta casilla el código anterior para que se ajuste al PEP8\n",
        "\n"
      ],
      "metadata": {
        "id": "lmbfpCv3oKBA"
      },
      "execution_count": null,
      "outputs": []
    }
  ],
  "metadata": {
    "colab": {
      "provenance": [],
      "include_colab_link": true
    },
    "kernelspec": {
      "display_name": "Python 3",
      "name": "python3"
    }
  },
  "nbformat": 4,
  "nbformat_minor": 0
}